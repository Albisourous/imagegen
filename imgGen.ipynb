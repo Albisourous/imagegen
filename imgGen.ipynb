{
  "nbformat": 4,
  "nbformat_minor": 0,
  "metadata": {
    "colab": {
      "name": "imgGen.ipynb",
      "provenance": [],
      "authorship_tag": "ABX9TyNTSu8NEl7mBiaMBmOOmWd6",
      "include_colab_link": true
    },
    "kernelspec": {
      "name": "python3",
      "display_name": "Python 3"
    },
    "language_info": {
      "name": "python"
    }
  },
  "cells": [
    {
      "cell_type": "markdown",
      "metadata": {
        "id": "view-in-github",
        "colab_type": "text"
      },
      "source": [
        "<a href=\"https://colab.research.google.com/github/Albisourous/imagegen/blob/main/imgGen.ipynb\" target=\"_parent\"><img src=\"https://colab.research.google.com/assets/colab-badge.svg\" alt=\"Open In Colab\"/></a>"
      ]
    },
    {
      "cell_type": "code",
      "execution_count": 1,
      "metadata": {
        "colab": {
          "base_uri": "https://localhost:8080/"
        },
        "id": "wlNfHeRjimFS",
        "outputId": "e5bf0e98-250b-44cc-913b-fd3aef201d94"
      },
      "outputs": [
        {
          "output_type": "stream",
          "name": "stdout",
          "text": [
            "NVIDIA-SMI has failed because it couldn't communicate with the NVIDIA driver. Make sure that the latest NVIDIA driver is installed and running.\n",
            "\n"
          ]
        }
      ],
      "source": [
        "# Check GPU\n",
        "!mkdir steps\n",
        "!nvidia-smi"
      ]
    },
    {
      "cell_type": "code",
      "source": [
        "# Imports\n",
        "!git clone --recursive https://github.com/crowsonkb/v-diffusion-pytorch # Install Pytorch\n",
        "!pip install ftfy # Fixes text\n",
        "!pip install regex # Regular Expression\n",
        "!pip install requests \n",
        "!pip install tqdm # Instantly make your loops show a smart progress meter"
      ],
      "metadata": {
        "id": "39VBOtsqisKd"
      },
      "execution_count": null,
      "outputs": []
    }
  ]
}